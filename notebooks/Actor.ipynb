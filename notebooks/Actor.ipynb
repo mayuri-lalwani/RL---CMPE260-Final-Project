{
  "nbformat": 4,
  "nbformat_minor": 0,
  "metadata": {
    "colab": {
      "name": "Actor.ipynb",
      "provenance": [],
      "collapsed_sections": []
    },
    "kernelspec": {
      "name": "python3",
      "display_name": "Python 3"
    },
    "language_info": {
      "name": "python"
    }
  },
  "cells": [
    {
      "cell_type": "markdown",
      "metadata": {
        "id": "zGYVh_juwsZv"
      },
      "source": [
        "# Actor\n",
        "![Screen Shot 2021-12-01 at 1.45.12 PM.png](data:image/png;base64,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)"
      ]
    },
    {
      "cell_type": "markdown",
      "metadata": {
        "id": "j0uUT7WyidWe"
      },
      "source": [
        "- ResNet-18 used as Feature Extractor\n",
        "- Use Batch Normalization with ReLU to stabilise Learning\n",
        "- Use Coord-Conv as first Layer \n"
      ]
    },
    {
      "cell_type": "code",
      "metadata": {
        "id": "n5DkdUjKp5rs"
      },
      "source": [
        "import numpy as np\n",
        "import torch\n",
        "import torch.nn as nn\n",
        "import torch.nn.functional as F\n",
        "import torch.nn.utils.weight_norm as weightNorm\n",
        "from torch.autograd import Variable\n",
        "import sys"
      ],
      "execution_count": null,
      "outputs": []
    },
    {
      "cell_type": "code",
      "metadata": {
        "id": "oeLOnxqQzxa8"
      },
      "source": [
        "def conv3x3(in_planes, out_planes, stride=1):\n",
        "    return (nn.Conv2d(in_planes, out_planes, kernel_size=3, stride=stride, padding=1, bias=False))\n"
      ],
      "execution_count": null,
      "outputs": []
    },
    {
      "cell_type": "markdown",
      "metadata": {
        "id": "dXAjFn3SqdZw"
      },
      "source": [
        "##Basic block"
      ]
    },
    {
      "cell_type": "code",
      "metadata": {
        "id": "aRi3rP8BqguX"
      },
      "source": [
        "class BasicBlock(nn.Module):\n",
        "    expansion = 1\n",
        "\n",
        "    def __init__(self, in_planes, planes, stride=1):\n",
        "        super(BasicBlock, self).__init__()\n",
        "        self.conv1 = conv3x3(in_planes, planes, stride)\n",
        "        self.bn1 = nn.BatchNorm2d(planes)\n",
        "        self.conv2 = conv3x3(planes, planes)\n",
        "        self.bn2 = nn.BatchNorm2d(planes)\n",
        "\n",
        "        self.shortcut = nn.Sequential()\n",
        "        if stride != 1 or in_planes != self.expansion * planes:\n",
        "            self.shortcut = nn.Sequential(\n",
        "                (nn.Conv2d(in_planes, self.expansion*planes, kernel_size=1, stride=stride, bias=False)),\n",
        "                nn.BatchNorm2d(self.expansion*planes)\n",
        "            )\n",
        "\n",
        "    def forward(self, x):\n",
        "        out = F.relu(self.bn1(self.conv1(x)))\n",
        "        out = self.bn2(self.conv2(out))\n",
        "        out += self.shortcut(x)\n",
        "        out = F.relu(out)\n",
        "\n",
        "        return out"
      ],
      "execution_count": null,
      "outputs": []
    },
    {
      "cell_type": "markdown",
      "metadata": {
        "id": "sLCgA7Xt6ZwB"
      },
      "source": [
        "##Bottleneck"
      ]
    },
    {
      "cell_type": "code",
      "metadata": {
        "id": "I5-xsyUU6Yha"
      },
      "source": [
        "class Bottleneck(nn.Module):\n",
        "    expansion = 4\n",
        "\n",
        "    def __init__(self, in_planes, planes, stride=1):\n",
        "        super(Bottleneck, self).__init__()\n",
        "        self.conv1 = (nn.Conv2d(in_planes, planes, kernel_size=1, bias=False))\n",
        "        self.conv2 = (nn.Conv2d(planes, planes, kernel_size=3, stride=stride, padding=1, bias=False))\n",
        "        self.conv3 = (nn.Conv2d(planes, self.expansion*planes, kernel_size=1, bias=False))\n",
        "        self.bn1 = nn.BatchNorm2d(planes)\n",
        "        self.bn2 = nn.BatchNorm2d(planes)\n",
        "        self.bn3 = nn.BatchNorm2d(self.expansion*planes)\n",
        "\n",
        "        self.shortcut = nn.Sequential()\n",
        "        if stride != 1 or in_planes != self.expansion*planes:\n",
        "            self.shortcut = nn.Sequential(\n",
        "                (nn.Conv2d(in_planes, self.expansion*planes, kernel_size=1, stride=stride, bias=False)),\n",
        "            )\n",
        "\n",
        "    def forward(self, x):\n",
        "        out = F.relu(self.bn1(self.conv1(x)))\n",
        "        out = F.relu(self.bn2(self.conv2(out)))\n",
        "        out = self.bn3(self.conv3(out))\n",
        "        out += self.shortcut(x)\n",
        "        out = F.relu(out)\n",
        "\n",
        "        return out\n"
      ],
      "execution_count": null,
      "outputs": []
    },
    {
      "cell_type": "markdown",
      "metadata": {
        "id": "lDGnA12HuhBt"
      },
      "source": [
        "##Resnet"
      ]
    },
    {
      "cell_type": "code",
      "metadata": {
        "id": "RucUGYQ9zqxg"
      },
      "source": [
        "class ResNet(nn.Module):\n",
        "    def __init__(self, num_inputs, depth, num_outputs):\n",
        "        super(ResNet, self).__init__()\n",
        "        self.in_planes = 64\n",
        "\n",
        "        block, num_blocks = cfg(depth)\n",
        "\n",
        "        self.conv1 = conv3x3(num_inputs, 64, 2)\n",
        "        self.bn1 = nn.BatchNorm2d(64)\n",
        "        self.layer1 = self._make_layer(block, 64, num_blocks[0], stride=2)\n",
        "        self.layer2 = self._make_layer(block, 128, num_blocks[1], stride=2)\n",
        "        self.layer3 = self._make_layer(block, 256, num_blocks[2], stride=2)\n",
        "        self.layer4 = self._make_layer(block, 512, num_blocks[3], stride=2)\n",
        "        self.fc = nn.Linear(512 * block.expansion, num_outputs)\n",
        "\n",
        "    def _make_layer(self, block, planes, num_blocks, stride):\n",
        "        strides = [stride] + [1]*(num_blocks-1)\n",
        "        layers = []\n",
        "\n",
        "        for stride in strides:\n",
        "            layers.append(block(self.in_planes, planes, stride))\n",
        "            self.in_planes = planes * block.expansion\n",
        "\n",
        "        return nn.Sequential(*layers)\n",
        "\n",
        "    def forward(self, x):\n",
        "        x = F.relu(self.bn1(self.conv1(x)))\n",
        "        x = self.layer1(x)\n",
        "        x = self.layer2(x)\n",
        "        x = self.layer3(x)\n",
        "        x = self.layer4(x)\n",
        "        x = F.avg_pool2d(x, 4)\n",
        "        x = x.view(x.size(0), -1)\n",
        "        x = self.fc(x)\n",
        "        x = torch.sigmoid(x)\n",
        "        return x\n"
      ],
      "execution_count": null,
      "outputs": []
    },
    {
      "cell_type": "code",
      "metadata": {
        "id": "BwJomZiT6Qtv"
      },
      "source": [
        " def cfg(depth):\n",
        "    depth_lst = [18, 34, 50, 101, 152]\n",
        "    assert (depth in depth_lst), \"Error : Resnet depth should be either 18, 34, 50, 101, 152\"\n",
        "    cf_dict = {\n",
        "        '18': (BasicBlock, [2,2,2,2]),\n",
        "        '34': (BasicBlock, [3,4,6,3]),\n",
        "        '50': (Bottleneck, [3,4,6,3]),\n",
        "        '101':(Bottleneck, [3,4,23,3]),\n",
        "        '152':(Bottleneck, [3,8,36,3]),\n",
        "    }\n",
        "\n",
        "    return cf_dict[str(depth)]"
      ],
      "execution_count": null,
      "outputs": []
    }
  ]
}