{
  "nbformat": 4,
  "nbformat_minor": 0,
  "metadata": {
    "colab": {
      "name": "Stroke Generator.ipynb",
      "provenance": [],
      "authorship_tag": "ABX9TyMRMtHmn/wAS76O8NOqFQMC"
    },
    "kernelspec": {
      "name": "python3",
      "display_name": "Python 3"
    },
    "language_info": {
      "name": "python"
    }
  },
  "cells": [
    {
      "cell_type": "markdown",
      "metadata": {
        "id": "KKCzdz1LpSYw"
      },
      "source": [
        "#Stroke Generator"
      ]
    },
    {
      "cell_type": "markdown",
      "metadata": {
        "id": "ZBNIn4uwwJjl"
      },
      "source": [
        "- Stroke represented as Quadratic Bezier Curve(QBC)\n",
        "- Shape of the curve is specified by the coordinates if control points\n",
        "- Stroke represented as \n",
        "```\n",
        "at = (x0,y0,x1,y1,x2,y2,r0,t0,r1,t1,R,G,B)t \n",
        "x, y  are coordinates; r,t - control the thickness and transparency, RGB \n"
      ]
    },
    {
      "cell_type": "code",
      "metadata": {
        "id": "Ze4VSIkKpbPt"
      },
      "source": [
        "import cv2\n",
        "import numpy as np"
      ],
      "execution_count": null,
      "outputs": []
    },
    {
      "cell_type": "code",
      "metadata": {
        "id": "vvmBPQ9KpcnZ"
      },
      "source": [
        "def normal(x, width):\n",
        "    return (int)(x * (width - 1) + 0.5)"
      ],
      "execution_count": null,
      "outputs": []
    },
    {
      "cell_type": "code",
      "metadata": {
        "id": "ehjVrgD0pPNU"
      },
      "source": [
        "\n",
        "def draw(f, width=128):\n",
        "    x0, y0, x1, y1, x2, y2, z0, z2, w0, w2 = f\n",
        "    x1 = x0 + (x2 - x0) * x1\n",
        "    y1 = y0 + (y2 - y0) * y1\n",
        "    x0 = normal(x0, width * 2)\n",
        "    x1 = normal(x1, width * 2)\n",
        "    x2 = normal(x2, width * 2)\n",
        "    y0 = normal(y0, width * 2)\n",
        "    y1 = normal(y1, width * 2)\n",
        "    y2 = normal(y2, width * 2)\n",
        "    z0 = (int)(1 + z0 * width // 2)\n",
        "    z2 = (int)(1 + z2 * width // 2)\n",
        "    canvas = np.zeros([width * 2, width * 2]).astype('float32')\n",
        "    tmp = 1. / 100\n",
        "    for i in range(100):\n",
        "        t = i * tmp\n",
        "        x = (int)((1-t) * (1-t) * x0 + 2 * t * (1-t) * x1 + t * t * x2)\n",
        "        y = (int)((1-t) * (1-t) * y0 + 2 * t * (1-t) * y1 + t * t * y2)\n",
        "        z = (int)((1-t) * z0 + t * z2)\n",
        "        w = (1-t) * w0 + t * w2\n",
        "        cv2.circle(canvas, (y, x), z, w, -1)\n",
        "    return 1 - cv2.resize(canvas, dsize=(width, width))\n"
      ],
      "execution_count": null,
      "outputs": []
    }
  ]
}