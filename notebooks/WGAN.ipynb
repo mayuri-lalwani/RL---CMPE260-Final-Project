{
  "nbformat": 4,
  "nbformat_minor": 0,
  "metadata": {
    "colab": {
      "name": "WGAN.ipynb",
      "provenance": [],
      "collapsed_sections": [],
      "authorship_tag": "ABX9TyN26V/Uy9/uvQ3FDZi8MS9j"
    },
    "kernelspec": {
      "name": "python3",
      "display_name": "Python 3"
    },
    "language_info": {
      "name": "python"
    }
  },
  "cells": [
    {
      "cell_type": "markdown",
      "metadata": {
        "id": "fINFOE8rDA6G"
      },
      "source": [
        "#Reward"
      ]
    },
    {
      "cell_type": "markdown",
      "metadata": {
        "id": "iEwLH1iUEq6P"
      },
      "source": [
        "- Use Wasserstein GAN (WGAN), an improved version of the original GAN that uses the Wasserstein-l distance(also known as Earth-Mover distance) with Gradient Penalty(WGAN-GP) as reward\n",
        "- Objective of discriminator in WGAN: maxD  Ey∼μ[D(y)] − Ex∼ν [D(x)]|D: Discriminator, ν and μ are the fake samples and real samples distribution\n",
        "- Fake sample are pairs of a painting and its target, real samples are two same target images\n"
      ]
    },
    {
      "cell_type": "markdown",
      "metadata": {
        "id": "OUHR1ooUE-DL"
      },
      "source": [
        "![Screen Shot 2021-12-01 at 11.34.02 PM.png](data:image/png;base64,iVBORw0KGgoAAAANSUhEUgAAAQsAAACKCAYAAAC9zm+bAAABQWlDQ1BJQ0MgUHJvZmlsZQAAKJFjYGASSSwoyGFhYGDIzSspCnJ3UoiIjFJgf8rAw8AIxBwMDInJxQWOAQE+QCUMMBoVfLsGVAsEl3VBZh0WnJ8oXNYrrXKsv8Xh4vJ3mOpRAFdKanEykP4DxKnJBUUlDAyMKUC2cnlJAYjdAWSLFAEdBWTPAbHTIewNIHYShH0ErCYkyBnIvgFkCyRnJALNYHwBZOskIYmnI7Gh9oIAt4+7gluoj4+ChwsB15IBSlIrSkC0c35BZVFmekaJgiMwlFIVPPOS9XQUjAyMDBkYQGEOUf35BjgsGcU4EGKFQD9aeTIwMOUixBICGBh2fAB5FSGmqsPAwHOcgeFAbEFiUSLcAYzfWIrTjI0gbO7tDAys0/7//xzOwMCuycDw9/r//7+3////dxkDA/MtoN5vAPbxXqdBM4mHAAAAVmVYSWZNTQAqAAAACAABh2kABAAAAAEAAAAaAAAAAAADkoYABwAAABIAAABEoAIABAAAAAEAAAELoAMABAAAAAEAAACKAAAAAEFTQ0lJAAAAU2NyZWVuc2hvdEvce8AAAAHWaVRYdFhNTDpjb20uYWRvYmUueG1wAAAAAAA8eDp4bXBtZXRhIHhtbG5zOng9ImFkb2JlOm5zOm1ldGEvIiB4OnhtcHRrPSJYTVAgQ29yZSA2LjAuMCI+CiAgIDxyZGY6UkRGIHhtbG5zOnJkZj0iaHR0cDovL3d3dy53My5vcmcvMTk5OS8wMi8yMi1yZGYtc3ludGF4LW5zIyI+CiAgICAgIDxyZGY6RGVzY3JpcHRpb24gcmRmOmFib3V0PSIiCiAgICAgICAgICAgIHhtbG5zOmV4aWY9Imh0dHA6Ly9ucy5hZG9iZS5jb20vZXhpZi8xLjAvIj4KICAgICAgICAgPGV4aWY6UGl4ZWxZRGltZW5zaW9uPjEzODwvZXhpZjpQaXhlbFlEaW1lbnNpb24+CiAgICAgICAgIDxleGlmOlBpeGVsWERpbWVuc2lvbj4yNjc8L2V4aWY6UGl4ZWxYRGltZW5zaW9uPgogICAgICAgICA8ZXhpZjpVc2VyQ29tbWVudD5TY3JlZW5zaG90PC9leGlmOlVzZXJDb21tZW50PgogICAgICA8L3JkZjpEZXNjcmlwdGlvbj4KICAgPC9yZGY6UkRGPgo8L3g6eG1wbWV0YT4KfZLZygAALetJREFUeAHtnWdzXMeV9w9yzpFIBMAAgjlKVKBMW5ZXli2Heuwqrx+/8Ft/i/0sfuyqfapsV8kuy9qVZclrWaRIkxQp5giQSAQBEDkD3PM7w6aGY9IcDCbcGXSzLu/g3r4dTvf59wkdsh5pEB88BTwFPAVeQIHsF7z3rz0FPAU8BYwCHix8R/AU8BSIigIeLKIik4/kKeAp4MHC9wFPAU+BqCjgwSIqMvlIngKeAh4sfB/wFPAUiIoCHiyiIpOP5CngKeDBwvcBTwFPgago4MEiKjL5SJ4CngIeLHwf8BTwFIiKAh4soiKTj+Qp4CngwcL3AU8BT4GoKJAbVSwfKekUWFlZkenpaeHuQn5+vhQWFkpurm82RxN/Tx4FfK9LHq2jzml1dVUmJibk9OnTMj8/LywMzs7OltbWVtm6dauUlZVFnZaP6CkQLwp4sIgXJeOYzuLiovT29sqvfvUrmZubM7DIy8uTb37zm9Lc3OzBIo609klFTwEPFtHTKikxkSJmZmakv7/fgKKkpMTAoqCgwECCuw+eAqmggAeLVFD9X+QJWKCC3Llzx1SOzs5OaWpqkrq6Omlra3tKqkBd6enpkaGhIbNt1NbWSkVFhTx8+FBmZ2dl+/btFh8VxgdPgfVSwIPFeikY5+8xaA4PD8uJEyfkwYMHBgRbtmyRo0ePSk5OjtkuXJYAy+joqLz//vsyODgoR44ckX379sndu3cNPDo6OkwqcfH93VNgPRTwYLEe6iXgW2fMLC4uNnDAdnHr1i0ZGRkxT0h1dfUTb0hWVpbwNxLGxYsXTW3BtoHHBNsGaXipIgGNtEGTzPkPDRu07oGsNmDB5Ri+vLxcxsbGpK+vT+rr62Xnzp3i7BaABe5UPCbXrl2T27dvGzh0dXXJ4cOHhW89WASymdOyUF6yCFizAQBVVVWmdgAa2B9QQ9577z0DjYWFhafsFhhADx06JGfPnjX1AwnDA0XAGjVDiuMtXwFrSMAAmwWGS8ACu8OxY8dk7969UlNT80QFccXGxgHAEA9QYSIX9g4MpMvLyy6av3sKrJsCXg1ZNwnjlwC2B2wTn332mfzmN7+R+/fvm92CuRaoE6gXAIJTLZzkweQtQmVlpRlFL126ZF6R7u5uU1kAEx88BdZLAa+GrJeCcfwepnYej6mpKTl37pygZuAy3bNnj2zevPkpyQJwwQuC9wPJ4uWXXzZp4uTJkzIwMGAu2NLS0ifgEsei+qQ2IAU8WASo0QELZ69gvgSTs5g70dLSYvMsAI7wQHymfh88eNBUFLwfGEZ37dolRUVFBjROCgn/zv/2FIiFAlkqyvoTyWKhXIK+oTmwNTCpamlpySQJAACvRyTjExdPCNPDcZkilfANF0ACePCc3z54CqyXAh4s1ktB/72nwAahgFdDAtTQ2CCQKvBwcPF3+G/+RpoIFwad1IDU4ewd4Xd+s6Sd9y5ugKrsi5JGFPBgkeTGcoDg1AXAwQEE6gSuU6da8Jxn4XEiAcOBgAMFgIELtcVdTo1x79wdFYXffOuBJMkdIQ2z82CRwEaDsR04ICHA9LhB8XRMTk7axbwI7BM8d6DA3UkWFA9Gdszs7uHFdpJGuNRBPIAAMAEUuAAPjKRceEkwomIgxbbBO0DDXQ6EwvPxvzc2BbzNIs7t7xgWZgcAxsfHbZIVC76YjQlI4OVAsgAUYEqY2jEzU7mdJOAY3UkIjvnDGRkwckDkpBWXNnckEyQVJBYHRsQHTEiXvAAM5mjgicH7wgpXwIT8iOeuOJPKJ5dmFPBgEacGAySQGJhUxZJxZmGy1JxnMCzvYXIYlJEcZsS9yegOo8KwDiSIA6MSYNTwe+Rv0nXB/XZ3gATAcKoNIEWZXLmQaHhG+QAQvgO0KB/lAjwaGxsNPCijW5Pi8vP3jUUBDxYxtjeMxUiNxMBMS0CC30gOSBQwH0wPIMBojvm4O5emszO4u5MY4jmSU06nDlEmLqfmcEfqoMxIQFwACaoRAENcAMJJHkw3ZzEbF88ckMVIQv9ZmlHAg8UaGwwgYBUo4OAuGIzRGaYHHFjtydJxRmZ+IzHAdFxOaggCozkgcdKHk0BcHaknAOLUJspM/agbgAF4oLYAHEgkPmQ2BTxYRNG+AAFMA/OwIQ0X9geYC2kASQEGgnmQHGAe1AwMiYBDugUkCgADkHDGWOrrwMMBI/UDLNyFBAU4Apo+ZB4FPFg8p01hGHR6QAL1grUW2CFgIEZYGAWAgFGQIAAKGAVwCILU8JxqxfQYdSWcFtAEwOQOcGBfASSxb3BBD/5GkgJMfcgMCniwiGhHOj+jKozAIi12qgIseI46AUA4pmhoaDCAyDRwiCDJU3+iuqC2IGVAH+w1gCj0wjYCiKKisOiNu1PDnMH2qcT8H2lFAQ8W2lzOWIla4faS6NH9JGAIAiMlm+a2t7fbHTXDj5hGGgMObDf37t2zC/BAdUHCAixYDQtwALLYNTxohOiWjv97sNBWY6RkS7qrV6+aJEFnR4oAIDjUhz0kGCF9R39+Fwdwkb5QT65fv26b7/AbaQOgYJdydhvnoCRv03g+HYP8ZsOCBZ0b+wM7SrF/JXtc4kbESMf+EYyImzZtMus/I6KXJF7cjaEpth7AF9oibUBfzkDB5oGKgpQBaEBjAHkjqXAvpmCwY2zY6d6MeFj4z5w5Y6oHox/7QNCZMVri4cBA5ztz9B0YWiF9cUE7aMgu46h22H4AZKQO6A4oo6p4KSN6+qY65oYFCwhPR8VqjwSBPQKQwB6Rju7OVHekyPydS9nNO2EKOUCMtMGkLw/CkRQL/t8bWg1BNEavxh4BaPhRLrEdFvWECWx4TrAHASQeNBJL83imvmHBAmMcIxxTnVMRYBLnMUgVSGGjGR0blaXFpaSTgPrjZcKOEUv9sY+gztCGqJTJDthbGGRQtTZK2JBqCB2NEe7ClxfkwsXzUlCshw3rs6QFstKrpKhMfvyjH6dkhIXBsCV89PFHMjU7qXaG5M26hP7LCyvy+mvHZEfXDgOMtdIeQ+oXX3wh129eE13tklQJZXV5VeprG2T/vgNmrF1r2dM1/oYFC+ZQnPnitHxy+s+y7WCnrC6HVl0muiEZUelsMw/nZLpvSd797rsGFonONzJ9wGJgcED+++M/SXblqtQ0ViZ8hNbF7lYM3e9Lrp+6IzW1NdLW2hYTWDCr9NQ/TsnZa59LVYvamQrzbL5MZD3j9/fj0mv7jQ4+lOq8eqkor/RgET8CBzMlRralZd3rYWVBylsL5dA7XbKkI10yhAvtayr2L0vf1SE5deWyuRopT7J1d92cz+ZFrOYvy5aDOp9kX7uuRk28OE89HylQ3bl6WxaXQitbY+klgN3M7LSUNhbJ7je3SElZkYJdLCmt5ZssdaFnydUzN2X6Rmgjo7V8ne5xN6Rk4RotOzdbikp1CXltpSyr3v5oNQmqiDLL4oIuTKvQQ4tzdN1EaLB1RUreXasKSOXm5UhpZYnSoFxWVLpKaAApNcDoqH5ZyniUIZYA6EC/ovwCqagul1KlJyCU0KB5UgXyms+fTWhWQUx8w4IF3ZYrm06ni524HmXF1nHX2rDklcUCK3peigMMa/VXxouVcddSBSis1I6LJGVtCAM/rsOjRJPT0ld6kWcA2m4tdI9H3A0LFhCPjhuCB3bMZqSNB0lfnEay8nlxScJiJKv+MFxc6UzBQ2kmg65xL35YEwT9p18/HPQW8uXzFAgIBTxYBKQhfDE8BYJOAQ8WQW8hXz5PgYBQwINFQBrCF8NTIOgU8GAR9Bby5fMUCAgFPFgEpCF8MTwFgk4BDxZBbyFfPk+BgFDAg0VAGsIXw1Mg6BTwYBH0FvLl8xQICAU8WASkIXwxPAWCTgEPFkFvIV8+T4GAUMCDRUAawhfDUyDoFPBgEfQW8uXzFAgIBTxYBKQhfDE8BYJOAQ8WQW8hXz5PgYBQYEPvZxFTGzzZ9OTxPgoxJZLmHzkaJGMDiTQnVSYV30sWa2zNxflFWZhdkNUV3TdTd2gKwm5Xa6zCuqKv6taD89Pzumdp6PgA2zHKdpBaV7KJ/5gyKsjZvjuAnQO8xOecMTnERbJgT0VOIOei83AeBsfXsV1bJgU2uR2/Py7T43NSXlMmZTUluodlnp574TpfhksbWs2lpWUZvH1fgTJHapoqpbC0wM79YCNbY8CAShvLiysyMzkn8wr0BboTeHF5seQV5KZsC9R05Is1g0XkTtT8zWE1HIB7+fJl4RBhDr7lqDoOkMmkoOwgD+9Pyu0L9yS/KF8a22uloa1OymtLJU87YGiUzVzAoH6rSysy1PNAhnpHtP510rC5Vmo2VUqJbmKbm58XPMDQMiMFDfUMy+n/+lLu330gtZuqZN8bO6VtZ7MUliT5zJg0Zog1gQUSBIfzcB4oh98S6EBIEBz68tvf/lZqamrsMFz3Po1p84yiZ0ltc7WOSJxRITI3My+3vryru0xnSXVDpb6r0p2yiyUniQf2PKOQCXvEwMBovLm7xYBiUUfriZFpGe1/aExXrUxYo1dhSX7CyrDmhB+t2jkfn//pvJz801ndzb1Qeq/1yf2+ETn+f47Krle3hzZrDqhEtOb6JvCDXKQC1AdUB86edJID51LOzc2ZiMkRbVNTU3L69GnhcJ7XXntNGhoanhw7BzAgRRAfQCEdnnEQDH9zca4oJ2cDLvwmoKo4UCEuefCMyx1px3OXLiBlo/djglBuyk/eSDTJCBV15aqClBpYTD2clnvXB+Xyiesy3DdqTHTg67ukbUdTaJt/U5CTUaok5aH1AQhrW6r1ni1L80vyoH9Mbn7RK+f+ellH8EVlvi55+dsHpSgIgGFSxbKqjpOqgszKW//+utS31SrATcr1cz0mHbXtaJbK+jJ59PgUBPoXPODDP1Mg9+zZszIzM2PnRgIK+/btM8bjwGCAAUaFSRsbG+XDDz9UnXVJWlpa7CBhp2ZAYJgVBueOpNHf329qCWeJcoL24OCgMXVra6sdm8fhuB0dHbJ3717Lh6PoiEe+PEeN4TzS3t5eew8wINXwrq2tzQDu/v37T8r+6quv2vcOfP65qut/QhcCIMaHJ+3ed2NIBm4Pa0eckbKqUj3Vq0qZpFD1YFVYMrG/abVWllbl4aDabZT57t8bkX6lwYie0LWi6glSFzTI5TyUQAQ9JlFtLCsreuJaQ5WC2H4p0sOIMFCv6ABGO81qPao5jU3RYlXjLSsAmi1D+7QPT1Mg99atWwYEPT09xqjYG86dO2eMCgjArEgCX/va12zkBxC4Io2XxHUXWXBg7cWLF2VkZETeeustkzL+8Ic/yPe+9z2TYsjXnaY9OjoqN2/etHLwDQADcPH+s88+k61bt1qp//rXv9q3qDyACuUiT+Jwf/PNNw3Enq5i/P6i+zy4Nypf/v2aPByesFG2rKpE2lX3xXZR31orlXVPSz/xyz31KcFcy6r/91y5JxdP3NQReFWPDcyXpo56BYoapUGt1LXWqO0ieeemvogqgNgjBYFiBQkOU1Iflhpli6S6vlImRqdkdmpe8HAtar2mx2dlTj092GLsOMRkHDr1ogoE6H0uJ1Hv3LlTSktL5fbt26YWIG0gAXBxUrRTJ5AwkBw4/Rq15XkBxmWERzJAEkFK4NTpX/7ylwYyW7ZsMSBB2gAYUDvIBxCiPAARUg0gcuPGDdm1a5fliQREvvfu3ZO+vj7ZtGmTqTbV1dUGHKg7CQsghUoLdCqukgpAokU2acdiZKIzYrtQ1NJodMnMHJlwnc7NLNoJbi3bm6RlW6OCZI2daFZQpMZCrTZCVVBqzylzs1NzZqc49d/5IZe3ttGAenSmx2dMShxSo+fSwrJMKnjUNFVLnUpIWWrAph19+IoCuTA0qgYqwO7du5+oEO3t7caM2CaIA/PDxIBFuE3hq6Tgk6+6CPGcHQSjJ4ADGKC6wNzYNQAG0gao+Bv7A/oiz4gPwHAhRfBNV1eX1NfXm+SDSrJjxw7p7Ow0IHG2jvDyxPs3XaeyrkK6D29VcbbQQKKgWNUv1d8X5xfMNcdIW1Zd8hQt4l2O1KXHcYe50tBer2pXsYJEnZRUFpnYvqrtNj0xYyJ+WW2ZFCizfdUbUlNiA2wtBPaK62dvywO1K8H/tOPC3IIC3rLcUw9OQTEgonY1BZWj7xyw3+F9OTWlD16uigG5NlIDFtgPYPBw42Ztba15OoaHh6302A5gZlQBmN8F/g6/3CgP80cajNwz4iBZIClcuHDBJAhAg+ekRZmQQu7evWt2k2PHjpmn5fz58wZwgBwSCWCD1OHSTUhDaw/L0uMNK5QRFmYWTE+/f3dY8wwZxCjz9MScdKi00f3yVgVWR5kMuisNcvOzpV4NnH2z82rc7VebgOr6OnrDgIjzyzpCv/ruYQMLpCwlUGoJoGUoVDtS4+Z6qWupCSGFlijyqEpsMUgauMQDUe7UUu2ZuecODAyY1IAkgBTBSA6Dnjx5UjAgokKgdmBUhDGxKaCuACIVFRU2ggIujPRICnzPb5gd7wa2CxiZOxfvwp8hNWC/wNNy8OBBs3GQ3tDQkEkX2ExgfgClvb3d0uV+6dIl+f3vf2/qCmWnnBhhExlQLoZVZD35p3Ny88teydNRKSsrhAqMTOjwZaoX25GpyieZJsVylugCNotL9+SD//c/ChKhAcPRgJEat+nRdw6mXKoI9QOVhNR709q1ySaQbVLbyiOdeRsZeMKh0JNqvEYdydHDopGUfHiaAjoBMc+YF9sAdgBG7+985zuCdwIDI5IGtgvA4vjx4wYsjP5OWuAOMHB/++23TZ3gGxgcW4iTRFAT3n33XVMnGIVRIVApsDsgQRAPKQdDKvk6NytpEQAV7BgYTDHCfve73zXgAlgACdLDKJoQqYICwPw6go7dnzCAOPpvB60TupPXFSdkYmxKjXw6emUgUDgSYOAc6n0gzZ0NsuuV7WqrKTRQhLUWZhdlfmbOJmc5m00qWQ5+L1C1sL6lVkv3SNWNwif9lvoQtJvatH2MoFlZOdq+4wkHOsc7ofx1opvyAyHSaWAPA/Rf7oEDBwwI8CwgSVBwJAvsDEgAMDm/MW52d3ebdIH9IJwxYWjcqXg6UE2IT8WRPCAM8bFB/OAHPzApBbA5dOiQqTOkS1ziILkAGKgXqCd4SIgLgFAuDJ6kQzwkCUCMv8kHSSdcLUoUjXGRNnUqyOkotXV/uyxrJ7Og9RwbGjdpI1F5pzpdGD9H26e2qcrquU3rX1zBwEHJ1NakYDE1Om2j+SNRuiT8WPMXUyRb3bh5GJ4tOOhSGVGfcxo6EsXEyJT0Xx9SD8819YTUKxDWhd4lSDRkgENiRjqmTzc1NRk/MejCB+3t7TZYvrh2yY2Ri3gPs2J4ZJRHFcEGABNTeEZqGBhG5BkGRX7zzAV+IwnwnuCYlnTC/yYP3pGmk07Im795x28uAABPCURFkkDqIW2+oYwQFIAgfUCE/JGQEhq0n1FOVA/Whlw+eUPGtZOhehC4YUhr2a4emobyhBYllYnTPhg5WR9y7uNLZuh15cFLhCpy+M29ymbMNwlAQHJ4XBIGLrf4j7kWY0MT0ndjUO5cuit9ChYjg2Pyqk5bNxUkgYWnH9G3r1+/btLxT37yE+v/SM9///vfbX4SgykSNHGDEnJRBbAzwHwABSoBjGeMEcGAdBTiRgbiwrDhABIZh78diET+jvybeADCtm3bDDiQXAAKygYKAxzECU+PNMIDHQMg+VdxwuNH+5s0J1XdGLo7IpNqEKMpGVl5vjC3aGskLC17EW2qaRLvsQTBilvqv6ATmPAkOBos6t8qycv+r+0MMah7EUP1oCeBPrfuoP0TnsOuNPNw1mbbMqGOCWXMvF3UmafFOveiY5dOFVDJERtMSFqKLWfX9+CLZ5WfPkl/ZlDEzkefRkqmXwMYTF1AqmcAhiddgCbY/1DZHS8i4ZMftkC8ifAuAy98ymBPfDcfifTgJYCKuOSPs4K4DLxI9MSHj5HenQnA5Z/7xhtvWMZkykdcqUYz8qfwqD3Nzc1WadQhygiRXwRKEI9K48GBAKhINMSzGs4RItp7YXGBTTxi4RjGTGYIIupyzU8vSImuZjTp1Um80SacJvGgIRPRmnV+RVVteUjfV1sODLCsIj0dNFt/gxOEWMjgOj/SJf0RhoEBYgnYlJYWdcLVxKytEem/OSR9Nwd1QeCEzOgkrByVktq6mmS32l8Kdd0IBtFcNXA6W1QsecLUSOwY+BmMUcvD+6wbXGFs6Alj4kSgf/MtnkFshvR/BxbQBCkbhwS/SQ9ewJYIwPAOAAA0AB+e8xtHAflg7wMsACXKhYoPaJAO5eMCVAAvwIjyMJUiHDByYSRCqgEislHofDA4F8R5URldB6OidFg62qlTp0yFweaBsZWGc6pRZH7R/A2NqnWF5Y4jW0w3R5KYnZrV0bVAquorzLBXXl2qHcCxSjSpplccGAl7DarGqo5MMCGuU0CyVEEkXxeasZLTnKlrQArajM5OR4Zh8JCxvAAGevnll03KRNrk77UEAGxUp6df+fymXDl9Qx4+mDTpr2VLg+RvzzfPB2t5MNZSBpayU8e1iBaU15Wdfsho/dFHH8nVq1et3+HlY9CDWSNBgz7lLsf8AASzqFnJjcOB4GjCym5UcZgb6QOgYQYzUjffAwI8pxyo7/DD/v37beDE4wgtKetf/vIXA6o9e/ZY2qhEDqzwdkILsAGecSE3aCDhChZ+j6aMVA4CsyYFAoGon3/+ublkP/30UzOSfv/737e5JLGOUnQg9kKgQ10/d0duXezV36tSqKI4U773vKoemfIimwbuAC68HpnwG8MgqseMgsT5Ty/Zkn1sApW6wK5zb5vsfa1bihQ81zr7EQkQ5vjHP/5hHbVHlx+8//775hlDj//GN74h77zzjk3MWwsdUT1Yy3PzfI/0XhmQ9u5mOfTWXp0P06yu0hkDkmKVKAp1fsWCzhNxK4ajxTnamf5Gec+cOWOiPX//+c9/trowQmN/wHtHHRj8IkN4X3ESA3GQjl0gDiM/AET6eAAZ+OjvTHP4xS9+Yao78Rlo8WwyWB5XDyZSBvzx8ccfG2ABAEg0gAtghDOB8rKsAiAi0B5OMrIH+t9XVkr3JE3vIC9iF9ZlkJM7opdTRfCeUHmIFmvAuI8R7OJnV+XWhV6d6FNnMzoBsym1X9z8osfWFLTqSBWT/B1rwZL1ndYfA+aAivKf/O6k6fltOuWbxVmoY6MDD+WSrsB9/XuHJBtRXjt4NIF4tB/MgEjNb9d+iN2IwrjGade1BOQ7JB3mWbz5769J16EOBY4peaiGzQLdZoB88Ibo0K7GkdDFN2tVQVzZUQUQ7WFmxHnq4qYB0BexEVDXfzX4kRb9mIC04AIAwLKHa9euGQgBEkjMMD2/ASGAiYWg0Anw4jkDIxID6geqPDyAhAPQ8A3gAFhwob4ghaB+UM7w/ClHxoAFiHzkyBHT82gwdEaIg5jGQjZcxFiXY5YqlFh0ookHU7YO5PiPX5HWbZvUO5KruKBiqK6XGNQVqNgtFueWQguRomQW1yGCfkeCQKoavjcmu45ul2372m25PmK7c0ECGHiJqhorcENEBZowD6McIxsdGIa5cuWKdWDakNGPTswIuZYAVGUpM5WotLdZ7RJ1LVW6ylT1et2DY3xkQu7feSAzupAMoAP4s3Xa/qxKTJWmUiprRNF+lB27Cl5CGBAmAywABv5GzH/llVcM7Pgb5iYOdwcaAAEB9QUpgRnLHR2hFdn2Qv9z6b7++uvG4EjRf/vb36zPo3LjhoWGpOEMmtgqUOfYUgKaQkuAAh4gb1cGvgMsADv4iHICWFzwjwsZAxZUHPGK+RYQBp0OHfe4imGABM9pVIjB+5gCjayW8lpdbITIzZwLGIKBCSZ60DdmHgL05PwsdeVGN7DGVJRUfER1AEz+7TjUKU1bGnV6NJ4zXoTEX7wLrLHAfRya2RkdEWgX15FhDDopbUibIRXSluHGtrXUH3dprkoY5fmlChwlgl2pqrHcFr/hPp3XqeunP7ygq1B1dFV7zN5j3Qb2eH2iCfQ9vIkwIWVHemXOESCBrQLdn9Ed5iUwmMGYzGuCIVm+wN9c2ByQIJAQ+NYF+iwggtQAoCIFwOCkjT3ud7/7nXz55Zf2N15E5koxQJIes67JB+kCWjoJjnKibiCRYEzFC0MZyBe7Ccs/wsM/gQWVJTH0JQpIA4FIoB93h4bhiQTlt2sMykPnc6MUyBn+LtbyWqdTSYJt2kYGxswTwGg7q3s79uu8AyztJm2ohT3TgCJEs9BkpiLddxMJolTnJBTpqI1qMq6GQ9yRo6qmdR3otH4SpWBhSdOv6GNulEUnBzz4G8Bwz2NtO74jj9y8bMnRWacYpcurymwPDkAC1WS0f1SXqLMZ89oGk8iyw0OoTUhKlB0eiuQb+iTMCCDyG8aFv9xiSQcwrr58D1OjRtC3URV4BvP/8Ic/NEkMsIJmxEM6IGDkRNqgDC+99JLZOlCJABLiUFbuSN9IJ5SDdBh4w6UK0noCFnxEolhCMQ5SEBjM6WAUAktqugTKHg+ACK8vNMFtyOrFy2pdzzvbYyIseyCM6/LmWt34hRWn7OcAPTMx5GndqnRJ/pWTt8x+Qx3xCrEXBIvKmN1aqiM3ILoeGtC5ueISQC1tO2sS/Y9/87olIsZMDLNshVildwAkV1URnq+n7PQTGO55AWZn5EalQGVxEi8SCnVGCokcmHmHZIAkwCAOeAIy5ANfAho8Byi46PtI1DA9AMDfpEv6gABxKAf58A5JBmmF9InnpLrwOjwBC8QbgOKDDz4wpCFzCoShieckADJBiA0XtM6hWqt4rFvq1eh+B8MqWfRc7Zc5FblZol6jDNS5p822bYNEmYYV1u5aL+YhsOFtjU75vnWhx9ZS2AIyZbTmrZvUrbxVV5yyR2kwwBJbChvcYICmSKVqjC2uKDQpkN2+cfPSfkiCrDitVxUTO1QiJUMYH6nXjeyOVvAb754VoD9MzjeAAvGctBU+mzk8DXgWQGHAd/FJB8DgGwLPeUa6xI1MO7wsBhYgD5bbP/7xjzbV9Oc//7mJQyQK2oB8GAwx2pAxdxIFkUAmKovaQsakxXsKCnIBQvxNRfkbHzDx+E0aSDME/uYbnoG2pEMleE7+qQrUbV6XpNs5Gaqvo/s2ql7LrksPdNNXxFZG2/LqMtsExi2sSlV5E5HvkqoZzM60CWh0tsJcW4ZfrUcBTKoxE7Ed93FlbYWCZY0BayCgQsGNKej3rg7a7mYAA3NkNu/YpLM378vlUzdlXve1wECboy5h9lf91v8NzWtIBB3D04QH1hrgB8DAgUT498977sAhPO7z8n5eGu5bAwsAADAALL797W8bUKAzkhEIBAqiQxEPYwmiCsYVRBWswDD2iRMnDJlgfoAHIw0iENZY1JpvfetbFh8jCihGuqSBkYd8EKfwZqCTYcgBfAAK4pFWSoL2eEbNqydv2k5LbGzTsbPN5lSw9Rp7Tq6uKHDqXgh3rw3q3IPQSJWtbrlMES0AS7YSvKFu4VHda7OqodJsEszgLFHdn7Z3XqIJXUSGtyFfgUOiNA4msl1NGlTzw+QYGysP6DT0bgOzHAV3BiXOeylSAGE27ooOaEN3hnV255CpJixTT6R0kch6JyrtXBs5dfRnPgKA4bbYg4EJMCygwKgPczNRhiniSAxM+sCfjMryySefmHjz9a9/3SbX4F8+fPiwqTFMBmEWG3oS4IA0guEFHzq+XPL49a9/bRZcLLqUBTcZYhHppCwoCVYfrUr/rSGd1HNXDurO3RysY2eEKBPlspoxJ19W8kI65KB2NvRh9HZ9nRGBUYgjD3pV5WJzmB2HttgITAWZqZqdreONkiFfdwxbuLcgN87ekSNvP21FTxUhaAI8U2zYs3lXs7z0thr1dIcvRTfbDrBJl9mzszc2CvaxuHO5T9eOzJhny2wuHi2eajqTLAAMRgikAgcS4bEQT2BcwtGjR00K6Hk86QP1or293UQj1BYkDWwcSBdIILhhiMPMPICBOIAGrjCkCfLET8zsPTdjDcBAGgGUSDuVIeuRbpmnouzuV7bJdnUXMn8AHferzVF0XYQyTW1zpYwOjdly5zq2ys+EkUlBgJ182AGLdSDtel5I++4WVTmenqHJZj/MgsS4i/EXz0i57iiWxfcpBE0YnrID3Oy/wWbKSBSibYp9BdWD2agU1FRrlYauqGqCupXCYqeyu//LvHVJf8jg4YwnqADOjhD+JfEAFBgaqQI7AiBCXEYf7BcAilNbACAuLLj4cJl6jQqDlIJnhXe4aFFtUHP4mwYDbLDiAjZIJKgx1sDhhUnSb8qEeKo36dy92dSOfFUxbJlzeBn0PSdyEUI7RIeOcQyPkq6/dRC2rfIqlNE6d7daPW1j4rAKwVi5ahTkAB+2GXyghw5BNGcWDoua5J+hPkjf5WAoW/NBCfTv4nKd4s3Ri+b9wFgYsrfNq2eHYwKs0ZNc2qBnZ1YWZ8hEamCxCSoCoACzAAwwLioKagO2CZgcoIC5nQGTuDC1M57wjmdIEzA/XhUmnziXDAtXWBQDWKCGYNQkXb4DXPAjI5kwU404KQnKBbgDlxeXHp+NqbYIRsuIALNQ70UVZTlLk+3nnyWhRXwW/D+pmLbhotptsrNzbObqPwHl41pYfTU+G+HilgwKs7H3Bv1wTBeTsaQeUKAOrBLmbvvzaJtiwO251Kfv1ajOu2e0c/AbLLElNLCA8ZkjzkIrJAbUAJbIMuUW4AAomAEGM7NABdCAkWkEnmFXcJIH4AFzAxxcABH2ByaoEAepAnDgG9IBiAAmpBLsGTwjIJFgVE150DIDGOMPJswjQh2MMehM9KjHHQ/XHOI3QBFyvcFpGRAeMw2zMtlRCmnBAIO6P6ZBljLYyjL7fOhRhrpbGBKG0SYA1WfuBGeAcHLa5ZPX9XCoGbNP0He5sFXYQjM14F45fdN2bMeQ/cxRIQD1SWURzGbBqIj6wBx8jI8wLNt+MfUTJsbGgHcENYQ5+oAAz5hWChjwPdNLAR0CU6uJSxwCXhG8IbxH3eGb9vZ2AyDe4x1hggqBtJy0AcCg3nClJChDcDoVZ4RcP3fbNqNt1vUgrDy1UUlldJZnz+ukrGtnbumcg4d2SLAt0dbnaR8MD9QHryrW3asDck2Nl0zjZpq7jcxqrNCuYB6jEWXGWxfUi6VzF5hzYoCaYgIoFlhbsdYD9/an7+nxmyphVDZUhPYO1fIBgsN3dS7RxXtm32CnMwzYAIkPT1PAwIJHzusBYCBFOFsE4IEnBGMkBPzpT39qKSCBOFWD93hE6CAABIwPw/MNwACz4xYlEJd4gE5HR4cBD89YcAMwAShOKuE3+QAgqQhaTF21mKd7bW6Wj/7zU9u7oetgpy46qg2tHVBOmZtaME8Bp5Sx1TynkqG/U4e0D/CLSk51WqciFdEBRNQM1oUwz4RdsZbml217upvnewVvUPsuPdqSTXH00yAwHIvD6vTAauZXfPT/P5MP//NvCiAFZtikfed131CWppfpmhGOMGjgRDX9JghlD1r/eQIWFAwmxtjoDI4QjGdcLjxv5Z+TIogH80cG0gwPLp/wZ5G/Xf6Rz5P5NzouYDGs28id/vC8ibLM9CvUnaIZVqd0JGU/x2Z1l3a/tFWt7A1avMSOStAFMOLupDkHTg5YAXLeub9jpplKSJXq2ehSZhvXA4U//+CcnHj/jElbMJVtAKSSFaDapW7VI9/ca9Pdbel3zJnG8UNtCjw12w936szSAjvAGTcwC8isv+vU9K6DrbLntS7ZfqDDzjtJbOvFsW5JTuopsAjPOxIkwt8l63c4SCUrz8h86Dhs5nLozT0mvl49fUtF8n47YwIMrdCZm1uO77Il223dTaHOlkAVBIDA3sPkNoy/P/vZz0yKY4MYQBojNXNf3nvvPVscxIImJLZYA/UHMHE9Hvv+EVvKfUV1/0FbXaoLlApUpexule0HO2z0rm/XVb86tyFIgX5UrAcNbT0Q8mhhW2HuCAE3cLmu98HVywY4Hiie33LPBYvnf7Lx3tCBWBPSpQxRr6oGIywWf+VbNeYV6QndFbatnvnsNW6iOxxSA6oixmbURTxJTGTDHsQ7jM4YpZla7ySO9bQa9UFy4OBjXMQtOkdh8uGUTV7CFlCmqzerlAbQCGBJdP3XWhfKg2ycp56RGt0WkVPlQitLdWKZlpdJWUEs91rrmej4HiyipDBzC9hEBeMlx/etsIxZeyEdDf89nc56ZJTprScaEgRLmbEHYZgGIJgti30HYzEjKQZlPEpxMw4rt2GLqagps/02bf6JkgBDrzEbNNDfQQ0OwGinvIhyIiEGDuECSEgPFlE2ClKEcqEZgvHdW+dyvKHvmOadjAAQoFZ0qHGYRX6AA6oJBmL3jvcYmbnHDSweVw5AwBUpjx57qBwNoEBySLAuMkOryPCMR5FR/N9KAQ8Wa+wGBgquv7n7GtNYb3SMlkgX4YbkcAMyhs1wg/N68wv/3qoczl0pokF4mfzv5FAgNT7J5NTN5+Ip4CkQRwp4sIgjMX1SngKZTAEPFpncur5ungJxpIAHizgS0yflKZDJFPBgkcmt6+vmKRBHCniwiCMxfVKeAplMAQ8Wmdy6vm6eAnGkgAeLOBLTJ+UpkMkU8GCRya3r6+YpEEcKeLCIIzF9Up4CmUwBDxaZ3Lq+bp4CcaSAB4s4EtMn5SmQyRTwYJHJrevr5ikQRwp4sIgjMX1SngKZTAEPFpncur5ungJxpMCG3s+CfVvYJYn9IdhB6Vkbo8SR1k+SYgMZNqoJQtCS2G5XWVr/7PB9KhJWOHYECdU/HhSAjpxbwpWtxxImOlh+ttNWPEqf6NLGN/0NCxbs2cKZH2wDPzOlJ6FxvmUCN9oNbzbOTl2YnbdDl8Ofp+I3Byhxitrs9KwdkJSUMijxl/Vwn/ViE+AOLeem5+y82WSAfZYOLBwfEJjdy5PSYKFMNixY6FikhwMtyLXTt+WD/E9s89lkdDbN1k7vmh6Zk0U9V5NypELKcHmODozJyT+O6gFBvY83sU1C71OwuHt9UBZfWYq57rTVkgLF7au9Mjk9aVv9PUrCWS3Q7UHfmFTlcOTDxgobEixQOziD9dWjr+v274W2AS1Mm6xgW/O16V6aL5Wsa5v+9ZQXGrS1tskPv/MjmZ6ftIODk0GD0C58j2SXHiuwf89+20M0lnqwt+gbbxyX+k31spq9qpJF4lUQK6d2k+XGFWmobrRNk2Mpe7p+syHBgsZiJ+ymTU0yM91tm+0aoyQPL7Rz50hlRejcVzfKJ7MTkSf7dm7t3CYTk+OhrJNhR1G0ACxzG3Vb/ho9vU3PvY0lAHbNTc12ZgpHISQR6/WQNj2lrbbOdlaPpezp+k2WinMhsE/XGsRYbne+xtTUlBk2k82w5MdW/tXV1es/NSxGGnDmCAcWcdQk3SBZNCAvmJ1jDNiBnN9rDaRB23GodjzORllr/gw2HM/JfaOEDQsWG6WBfT09BeJFgbVDerxy9ul4CngKpBUFPFikVXP5wnoKpI4CHixSR3ufs6dAWlHAg0VaNZcvrKdA6ijgwSJ1tPc5ewqkFQU8WKRVc/nCegqkjgIeLFJHe5+zp0BaUcCDRVo1ly+sp0DqKODBInW09zl7CqQVBTxYpFVz+cJ6CqSOAv8LWKK4HmElWpwAAAAASUVORK5CYII=)"
      ]
    },
    {
      "cell_type": "code",
      "metadata": {
        "id": "Wa0o73efC-ru"
      },
      "source": [
        "import torch\n",
        "import torch.nn as nn\n",
        "import numpy as np\n",
        "from torch.optim import Adam, SGD\n",
        "from torch import autograd\n",
        "from torch.autograd import Variable\n",
        "import torch.nn.functional as F\n",
        "from torch.autograd import grad as torch_grad\n",
        "import torch.nn.utils.weight_norm as weightNorm\n",
        "from utils.util import *"
      ],
      "execution_count": null,
      "outputs": []
    },
    {
      "cell_type": "markdown",
      "metadata": {
        "id": "m6Fc9ZCYFkAT"
      },
      "source": [
        "##TReLU"
      ]
    },
    {
      "cell_type": "code",
      "metadata": {
        "id": "D9bjI_aIFhg-"
      },
      "source": [
        "class TReLU(nn.Module):\n",
        "    def __init__(self):\n",
        "            super(TReLU, self).__init__()\n",
        "            self.alpha = nn.Parameter(torch.FloatTensor(1), requires_grad=True)\n",
        "            self.alpha.data.fill_(0)\n",
        "\n",
        "    def forward(self, x):\n",
        "        x = F.relu(x - self.alpha) + self.alpha\n",
        "        return x"
      ],
      "execution_count": null,
      "outputs": []
    },
    {
      "cell_type": "markdown",
      "metadata": {
        "id": "v8hbypGuFpjk"
      },
      "source": [
        "##Discriminator"
      ]
    },
    {
      "cell_type": "code",
      "metadata": {
        "id": "TqaHlKusFsJj"
      },
      "source": [
        "class Discriminator(nn.Module):\n",
        "        def __init__(self):\n",
        "            super(Discriminator, self).__init__()\n",
        "\n",
        "            self.conv0 = weightNorm(nn.Conv2d(6, 16, 5, 2, 2))\n",
        "            self.conv1 = weightNorm(nn.Conv2d(16, 32, 5, 2, 2))\n",
        "            self.conv2 = weightNorm(nn.Conv2d(32, 64, 5, 2, 2))\n",
        "            self.conv3 = weightNorm(nn.Conv2d(64, 128, 5, 2, 2))\n",
        "            self.conv4 = weightNorm(nn.Conv2d(128, 1, 5, 2, 2))\n",
        "            self.relu0 = TReLU()\n",
        "            self.relu1 = TReLU()\n",
        "            self.relu2 = TReLU()\n",
        "            self.relu3 = TReLU()\n",
        "\n",
        "        def forward(self, x):\n",
        "            x = self.conv0(x)\n",
        "            x = self.relu0(x)\n",
        "            x = self.conv1(x)\n",
        "            x = self.relu1(x)\n",
        "            x = self.conv2(x)\n",
        "            x = self.relu2(x)\n",
        "            x = self.conv3(x)\n",
        "            x = self.relu3(x)\n",
        "            x = self.conv4(x)\n",
        "            x = F.avg_pool2d(x, 4)\n",
        "            x = x.view(-1, 1)\n",
        "            return x\n"
      ],
      "execution_count": null,
      "outputs": []
    },
    {
      "cell_type": "markdown",
      "metadata": {
        "id": "m8p-tzk5F0Vb"
      },
      "source": [
        "###Calculate Gradient Penalty"
      ]
    },
    {
      "cell_type": "code",
      "metadata": {
        "id": "X0okW9qvFzgy"
      },
      "source": [
        "def cal_gradient_penalty(netD, real_data, fake_data, batch_size):\n",
        "    alpha = torch.rand(batch_size, 1)\n",
        "    alpha = alpha.expand(batch_size, int(real_data.nelement()/batch_size)).contiguous()\n",
        "    alpha = alpha.view(batch_size, 6, dim, dim)\n",
        "    alpha = alpha.to(device)\n",
        "    fake_data = fake_data.view(batch_size, 6, dim, dim)\n",
        "    interpolates = Variable(alpha * real_data.data + ((1 - alpha) * fake_data.data), requires_grad=True)\n",
        "    disc_interpolates = netD(interpolates)\n",
        "    gradients = autograd.grad(disc_interpolates, interpolates,\n",
        "                              grad_outputs=torch.ones(disc_interpolates.size()).to(device),\n",
        "                              create_graph=True, retain_graph=True)[0]\n",
        "    gradients = gradients.view(gradients.size(0), -1)\n",
        "    gradient_penalty = ((gradients.norm(2, dim=1) - 1) ** 2).mean() * LAMBDA\n",
        "    return gradient_penalty"
      ],
      "execution_count": null,
      "outputs": []
    },
    {
      "cell_type": "markdown",
      "metadata": {
        "id": "4tAZXJ1qF7_5"
      },
      "source": [
        "###Calculate Reward"
      ]
    },
    {
      "cell_type": "code",
      "metadata": {
        "id": "pSvbHHzvF44_"
      },
      "source": [
        "def cal_reward(fake_data, real_data):\n",
        "    return target_netD(torch.cat([real_data, fake_data], 1))"
      ],
      "execution_count": null,
      "outputs": []
    },
    {
      "cell_type": "markdown",
      "metadata": {
        "id": "BSgQ13oRF-PI"
      },
      "source": [
        "###Update Reward"
      ]
    },
    {
      "cell_type": "code",
      "metadata": {
        "id": "u_MfgZF3GGEP"
      },
      "source": [
        "def update(fake_data, real_data):\n",
        "    fake_data = fake_data.detach()\n",
        "    real_data = real_data.detach()\n",
        "    fake = torch.cat([real_data, fake_data], 1)\n",
        "    real = torch.cat([real_data, real_data], 1)\n",
        "    D_real = netD(real)\n",
        "    D_fake = netD(fake)\n",
        "    gradient_penalty = cal_gradient_penalty(netD, real, fake, real.shape[0])\n",
        "    optimizerD.zero_grad()\n",
        "    D_cost = D_fake.mean() - D_real.mean() + gradient_penalty\n",
        "    D_cost.backward()\n",
        "    optimizerD.step()\n",
        "    soft_update(target_netD, netD, 0.001)\n",
        "    return D_fake.mean(), D_real.mean(), gradient_penalty"
      ],
      "execution_count": null,
      "outputs": []
    },
    {
      "cell_type": "markdown",
      "metadata": {
        "id": "yQ6m7dGiGKLO"
      },
      "source": [
        "###Save and Load GAN"
      ]
    },
    {
      "cell_type": "code",
      "metadata": {
        "id": "Q6cHW-qqGGzU"
      },
      "source": [
        "def save_gan(path):\n",
        "    netD.cpu()\n",
        "    torch.save(netD.state_dict(),'{}/wgan.pkl'.format(path))\n",
        "    netD.to(device)\n",
        "\n",
        "def load_gan(path):\n",
        "    netD.load_state_dict(torch.load('{}/wgan.pkl'.format(path)))\n"
      ],
      "execution_count": null,
      "outputs": []
    },
    {
      "cell_type": "code",
      "metadata": {
        "id": "_cluchEnFhBy"
      },
      "source": [
        "device = torch.device(\"cuda\" if torch.cuda.is_available() else \"cpu\")\n",
        "dim = 128\n",
        "LAMBDA = 10 # Gradient penalty lambda hyperparameter"
      ],
      "execution_count": null,
      "outputs": []
    },
    {
      "cell_type": "code",
      "metadata": {
        "id": "8hLueiDyGSDt"
      },
      "source": [
        "netD = Discriminator()\n",
        "target_netD = Discriminator()\n",
        "netD = netD.to(device)\n",
        "target_netD = target_netD.to(device)\n",
        "hard_update(target_netD, netD)\n",
        "\n",
        "optimizerD = Adam(netD.parameters(), lr=3e-4, betas=(0.5, 0.999))"
      ],
      "execution_count": null,
      "outputs": []
    }
  ]
}